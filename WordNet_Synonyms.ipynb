{
 "cells": [
  {
   "cell_type": "code",
   "execution_count": 7,
   "metadata": {},
   "outputs": [],
   "source": [
    "import nltk\n",
    "from nltk.corpus import wordnet"
   ]
  },
  {
   "cell_type": "code",
   "execution_count": 8,
   "metadata": {},
   "outputs": [],
   "source": [
    "# This would be our keyword\n",
    "keyword = \"Myanmar\""
   ]
  },
  {
   "cell_type": "code",
   "execution_count": 9,
   "metadata": {},
   "outputs": [
    {
     "name": "stdout",
     "output_type": "stream",
     "text": [
      "Synonyms: ['Myanmar', 'Union of Burma', 'Burma']\n"
     ]
    }
   ],
   "source": [
    "syn = list()\n",
    "for synset in wordnet.synsets(keyword):\n",
    "    for lemma in synset.lemmas():\n",
    "        syn.append(lemma.name().replace(\"_\", \" \"))    # add the synonyms\n",
    "print('Synonyms: ' + str(syn))"
   ]
  },
  {
   "cell_type": "code",
   "execution_count": 14,
   "metadata": {},
   "outputs": [],
   "source": [
    "keyword = \"Elizabeth II\""
   ]
  },
  {
   "cell_type": "code",
   "execution_count": 15,
   "metadata": {},
   "outputs": [
    {
     "name": "stdout",
     "output_type": "stream",
     "text": [
      "Synonyms: []\n"
     ]
    }
   ],
   "source": [
    "syn = list()\n",
    "for synset in wordnet.synsets(keyword):\n",
    "    for lemma in synset.lemmas():\n",
    "        syn.append(lemma.name().replace(\"_\", \" \"))    # add the synonyms\n",
    "print('Synonyms: ' + str(syn))"
   ]
  },
  {
   "cell_type": "code",
   "execution_count": 16,
   "metadata": {},
   "outputs": [
    {
     "name": "stdout",
     "output_type": "stream",
     "text": [
      "For 'Elizabeth II', we do not get a synonym like 'The Queen'\n"
     ]
    }
   ],
   "source": [
    "print(\"For 'Elizabeth II', we do not get a synonym like 'The Queen'\")"
   ]
  }
 ],
 "metadata": {
  "kernelspec": {
   "display_name": "Python 3",
   "language": "python",
   "name": "python3"
  },
  "language_info": {
   "codemirror_mode": {
    "name": "ipython",
    "version": 3
   },
   "file_extension": ".py",
   "mimetype": "text/x-python",
   "name": "python",
   "nbconvert_exporter": "python",
   "pygments_lexer": "ipython3",
   "version": "3.8.3"
  }
 },
 "nbformat": 4,
 "nbformat_minor": 4
}
